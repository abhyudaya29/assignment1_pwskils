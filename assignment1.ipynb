{
 "cells": [
  {
   "cell_type": "markdown",
   "id": "7ef97771-ef28-480f-b7c8-4ba6cab4f8d4",
   "metadata": {},
   "source": [
    "Q) who developed python language"
   ]
  },
  {
   "cell_type": "code",
   "execution_count": 1,
   "id": "24ca2f17-932d-492e-8f19-f19d328fc2fb",
   "metadata": {},
   "outputs": [],
   "source": [
    "## ans: this language was developed by \"Guido van Rossum\""
   ]
  },
  {
   "cell_type": "markdown",
   "id": "6f07bae9-2690-40b6-8dd3-ebd67b632de3",
   "metadata": {},
   "source": [
    "Q) which type of programming does python support?"
   ]
  },
  {
   "cell_type": "code",
   "execution_count": 2,
   "id": "3df7fd0b-f0fd-4b70-a9cf-73ff5db40a7f",
   "metadata": {},
   "outputs": [],
   "source": [
    "## python supports object oriented and structural programming"
   ]
  },
  {
   "cell_type": "markdown",
   "id": "c27b7150-df83-4682-ba49-d260971aac9a",
   "metadata": {},
   "source": [
    "Q) Is python case senesitive while dealing with identifiers?"
   ]
  },
  {
   "cell_type": "code",
   "execution_count": 3,
   "id": "b382a8de-0a41-4166-a867-647e4c53a19c",
   "metadata": {},
   "outputs": [],
   "source": [
    "## Python is case senistive as it operates upper and lower case differentely"
   ]
  },
  {
   "cell_type": "markdown",
   "id": "3bcdf8cc-e0fe-4d95-b716-ee4093b94be1",
   "metadata": {},
   "source": [
    "Q) what is correct extesion of the python file?"
   ]
  },
  {
   "cell_type": "code",
   "execution_count": 4,
   "id": "623322ec-aef8-4e6b-9668-7253962a9478",
   "metadata": {},
   "outputs": [],
   "source": [
    "## for jupiter notebook its if \"ipynb\" and in code editors like vs code its is\".py\""
   ]
  },
  {
   "cell_type": "markdown",
   "id": "7f593466-b57d-418e-8d9e-30ebd404be7b",
   "metadata": {},
   "source": [
    "Q) is python is compiled or interpreted language?"
   ]
  },
  {
   "cell_type": "code",
   "execution_count": 5,
   "id": "8a779daa-c13c-4331-a603-8263fd82cd9a",
   "metadata": {},
   "outputs": [],
   "source": [
    "## its is a intrepreted language"
   ]
  },
  {
   "cell_type": "markdown",
   "id": "62c91a43-30a5-40f3-b4a4-e6934a58584f",
   "metadata": {},
   "source": [
    "Q) Name few blocks of code use to define in  pyhton language"
   ]
  },
  {
   "cell_type": "code",
   "execution_count": 6,
   "id": "090aedba-10bc-4a95-a04c-2449ede0704d",
   "metadata": {},
   "outputs": [],
   "source": [
    "# def pw_skills():\n",
    "  \n",
    "#   print (\"abhyudaya\")\n",
    "  \n",
    "  \n",
    "# for i in range(10):\n",
    "  \n",
    "#   print (i)"
   ]
  },
  {
   "cell_type": "markdown",
   "id": "25484c28-54f1-4e1d-a090-49bd58e8f2f6",
   "metadata": {},
   "source": [
    "Q) State a character used for single line comment in python?"
   ]
  },
  {
   "cell_type": "code",
   "execution_count": 7,
   "id": "c5400576-96c3-4629-a246-817c99011229",
   "metadata": {},
   "outputs": [],
   "source": [
    "# the symbol is \"#\""
   ]
  },
  {
   "cell_type": "markdown",
   "id": "6ac6f9c9-75af-4154-aeb9-28aad5814691",
   "metadata": {},
   "source": [
    "Q) mention the function which is used to find  the  version of python that we are cirrentely working on"
   ]
  },
  {
   "cell_type": "code",
   "execution_count": 8,
   "id": "732de128-6002-43d6-bd2b-67203ea432c6",
   "metadata": {},
   "outputs": [],
   "source": [
    "# we use sys.version"
   ]
  },
  {
   "cell_type": "markdown",
   "id": "d8e9137d-3a17-4d40-9973-c8c4879304d3",
   "metadata": {},
   "source": [
    "Q) Python supports the creations of anonymous functions at run time using a construct called?"
   ]
  },
  {
   "cell_type": "code",
   "execution_count": 9,
   "id": "47fbf36a-5e70-46bb-bac8-34e98198c2fe",
   "metadata": {},
   "outputs": [],
   "source": [
    "## its a lambda function"
   ]
  },
  {
   "cell_type": "markdown",
   "id": "d9a350b7-62eb-40cf-854e-dc40e745d1c5",
   "metadata": {},
   "source": [
    "Q) what doed pip stand for python?"
   ]
  },
  {
   "cell_type": "code",
   "execution_count": 10,
   "id": "1d8fa11e-6b47-4763-a8ac-8f5bd01908f6",
   "metadata": {},
   "outputs": [],
   "source": [
    "## it is  preferred installer program"
   ]
  },
  {
   "cell_type": "markdown",
   "id": "b34ff8bf-0512-4229-b71e-96ad9cefffc8",
   "metadata": {},
   "source": [
    "Q) Mention few built in function in python?"
   ]
  },
  {
   "cell_type": "code",
   "execution_count": 12,
   "id": "cbb4c1b6-8517-475a-8801-62191511a94b",
   "metadata": {},
   "outputs": [],
   "source": [
    "# a.len()\n",
    "# type()\n",
    "# print()\n",
    "# a.pop()"
   ]
  },
  {
   "cell_type": "markdown",
   "id": "2115c666-f4dd-440d-8f99-c83126e6b1d1",
   "metadata": {},
   "source": [
    "Q) what are the benifits of using python?"
   ]
  },
  {
   "cell_type": "code",
   "execution_count": 14,
   "id": "9143f203-0d71-4333-acbe-869c1c9e27f3",
   "metadata": {},
   "outputs": [],
   "source": [
    "# Adavantages are: \n",
    "#) 1) its has a smaller syntax\n",
    "#  2) its contains modules like pandas and numpy which help to write code easily"
   ]
  },
  {
   "cell_type": "markdown",
   "id": "5adbbdda-33f2-414e-bdc1-e686d817fe76",
   "metadata": {},
   "source": [
    "Q) How is memory managed in python?"
   ]
  },
  {
   "cell_type": "code",
   "execution_count": 15,
   "id": "ca8570a6-8169-461d-a4d8-3ab6cef3766e",
   "metadata": {},
   "outputs": [],
   "source": [
    "# #lets say \n",
    "# x=20\n",
    "# so a memory block gets allocated in the ram which stores the value 20 and x denotes that memory location"
   ]
  },
  {
   "cell_type": "markdown",
   "id": "d9f33dac-6c77-4641-b206-c051073895d7",
   "metadata": {},
   "source": [
    "Q) How to install python on windows anmd set path variables?"
   ]
  },
  {
   "cell_type": "code",
   "execution_count": 16,
   "id": "f4fe2cf4-f6bf-4ffe-95bb-69430df91feb",
   "metadata": {},
   "outputs": [],
   "source": [
    "# python is installed from its orighinal website and its path can de set up by \n",
    "# coping the python scripts in the enviornment variable's path"
   ]
  },
  {
   "cell_type": "markdown",
   "id": "21ebe125-2146-4910-a423-0f01227dfadb",
   "metadata": {},
   "source": [
    "Q) is indentation required in python?"
   ]
  },
  {
   "cell_type": "code",
   "execution_count": 17,
   "id": "02371494-d0e8-4475-973f-386d287a90f9",
   "metadata": {},
   "outputs": [],
   "source": [
    "## yes indentation is required in python"
   ]
  },
  {
   "cell_type": "code",
   "execution_count": null,
   "id": "aef25b91-76e2-4470-8964-d7ed224bd673",
   "metadata": {},
   "outputs": [],
   "source": []
  }
 ],
 "metadata": {
  "kernelspec": {
   "display_name": "Python 3 (ipykernel)",
   "language": "python",
   "name": "python3"
  },
  "language_info": {
   "codemirror_mode": {
    "name": "ipython",
    "version": 3
   },
   "file_extension": ".py",
   "mimetype": "text/x-python",
   "name": "python",
   "nbconvert_exporter": "python",
   "pygments_lexer": "ipython3",
   "version": "3.10.8"
  }
 },
 "nbformat": 4,
 "nbformat_minor": 5
}
